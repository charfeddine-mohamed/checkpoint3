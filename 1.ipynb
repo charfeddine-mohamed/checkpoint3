def list(content):
    x=1
    for y in content :
        x *=y
    return x
print(list([2, 3, 6]))
