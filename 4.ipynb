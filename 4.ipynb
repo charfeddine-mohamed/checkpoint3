n = int(input("Enter the value of n: "))
dictionary = {i : i*i for i in range(1, n+1)}
print(dictionary)
