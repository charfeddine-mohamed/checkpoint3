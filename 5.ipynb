list1=[('item1', '12.20'), ('item2', '15.10'), ('item3', '24.5')]
list1.sort(reverse=True)
print(list1)
